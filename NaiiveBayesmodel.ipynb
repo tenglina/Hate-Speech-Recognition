{
 "cells": [
  {
   "cell_type": "code",
   "execution_count": 256,
   "id": "da3d0c85",
   "metadata": {},
   "outputs": [
    {
     "name": "stderr",
     "output_type": "stream",
     "text": [
      "[nltk_data] Downloading package stopwords to\n",
      "[nltk_data]     /Users/nandinitengli/nltk_data...\n",
      "[nltk_data]   Package stopwords is already up-to-date!\n"
     ]
    }
   ],
   "source": [
    "import numpy as np # linear algebra\n",
    "import pandas as pd \n",
    "import matplotlib.pyplot as plt\n",
    "\n",
    "\n",
    "#data preprocessing\n",
    "from sklearn.compose import ColumnTransformer\n",
    "from sklearn.preprocessing import OneHotEncoder\n",
    "\n",
    "#NLP tools\n",
    "import re\n",
    "import nltk\n",
    "nltk.download('stopwords')\n",
    "from nltk.corpus import stopwords\n",
    "from nltk.stem.porter import PorterStemmer\n",
    "from sklearn.feature_extraction.text import CountVectorizer\n",
    "\n",
    "from sklearn.model_selection import train_test_split\n",
    "from sklearn.naive_bayes import GaussianNB\n"
   ]
  },
  {
   "cell_type": "code",
   "execution_count": 257,
   "id": "39a970f9",
   "metadata": {},
   "outputs": [
    {
     "data": {
      "text/html": [
       "<div>\n",
       "<style scoped>\n",
       "    .dataframe tbody tr th:only-of-type {\n",
       "        vertical-align: middle;\n",
       "    }\n",
       "\n",
       "    .dataframe tbody tr th {\n",
       "        vertical-align: top;\n",
       "    }\n",
       "\n",
       "    .dataframe thead th {\n",
       "        text-align: right;\n",
       "    }\n",
       "</style>\n",
       "<table border=\"1\" class=\"dataframe\">\n",
       "  <thead>\n",
       "    <tr style=\"text-align: right;\">\n",
       "      <th></th>\n",
       "      <th>file_id</th>\n",
       "      <th>label</th>\n",
       "    </tr>\n",
       "  </thead>\n",
       "  <tbody>\n",
       "    <tr>\n",
       "      <th>0</th>\n",
       "      <td>12834217_1</td>\n",
       "      <td>noHate</td>\n",
       "    </tr>\n",
       "    <tr>\n",
       "      <th>1</th>\n",
       "      <td>12834217_2</td>\n",
       "      <td>noHate</td>\n",
       "    </tr>\n",
       "    <tr>\n",
       "      <th>2</th>\n",
       "      <td>12834217_3</td>\n",
       "      <td>noHate</td>\n",
       "    </tr>\n",
       "    <tr>\n",
       "      <th>3</th>\n",
       "      <td>12834217_4</td>\n",
       "      <td>hate</td>\n",
       "    </tr>\n",
       "    <tr>\n",
       "      <th>4</th>\n",
       "      <td>12834217_5</td>\n",
       "      <td>noHate</td>\n",
       "    </tr>\n",
       "  </tbody>\n",
       "</table>\n",
       "</div>"
      ],
      "text/plain": [
       "      file_id   label\n",
       "0  12834217_1  noHate\n",
       "1  12834217_2  noHate\n",
       "2  12834217_3  noHate\n",
       "3  12834217_4    hate\n",
       "4  12834217_5  noHate"
      ]
     },
     "execution_count": 257,
     "metadata": {},
     "output_type": "execute_result"
    }
   ],
   "source": [
    "ids = pd.read_csv('hate-speech-dataset/annotations_metadata.csv')[[\"file_id\", \"label\"]]\n",
    "ids.head()"
   ]
  },
  {
   "cell_type": "code",
   "execution_count": 258,
   "id": "4b48afbb",
   "metadata": {},
   "outputs": [],
   "source": [
    "def get_data(paths, group):\n",
    "  \n",
    "    sets = []\n",
    "    for p in paths:\n",
    "\n",
    "        with open(p) as f:\n",
    "            file_id = p.split('/')[-1].split('.')[0]\n",
    "            sets.append((file_id, f.read(), group))\n",
    "\n",
    "    return pd.DataFrame(sets, columns=[\"file_id\", \"text\", \"gSet\"])"
   ]
  },
  {
   "cell_type": "code",
   "execution_count": 259,
   "id": "9a569bdd",
   "metadata": {},
   "outputs": [],
   "source": [
    "#Read Data from CSV files and combine into one set \n",
    "import glob\n",
    "\n",
    "train_file = get_data(glob.glob('./hate-speech-dataset/sampled_train/*.txt'), 'train')\n",
    "test_file = get_data(glob.glob('./hate-speech-dataset/sampled_test/*.txt'), 'test')\n",
    "\n",
    "train_file = train_file.join(ids.set_index('file_id'), on='file_id').drop(['file_id', 'gSet'], axis=1)\n",
    "test_file = test_file.join(ids.set_index('file_id'), on='file_id').drop(['file_id', 'gSet'], axis=1)\n",
    "\n",
    "comb_set = pd.concat([train_set, test_set]).reset_index(drop=True).drop(['file_id', 'gSet'], axis=1)"
   ]
  },
  {
   "cell_type": "code",
   "execution_count": 260,
   "id": "d52cff43",
   "metadata": {},
   "outputs": [
    {
     "data": {
      "text/html": [
       "<div>\n",
       "<style scoped>\n",
       "    .dataframe tbody tr th:only-of-type {\n",
       "        vertical-align: middle;\n",
       "    }\n",
       "\n",
       "    .dataframe tbody tr th {\n",
       "        vertical-align: top;\n",
       "    }\n",
       "\n",
       "    .dataframe thead th {\n",
       "        text-align: right;\n",
       "    }\n",
       "</style>\n",
       "<table border=\"1\" class=\"dataframe\">\n",
       "  <thead>\n",
       "    <tr style=\"text-align: right;\">\n",
       "      <th></th>\n",
       "      <th>text</th>\n",
       "      <th>label</th>\n",
       "    </tr>\n",
       "  </thead>\n",
       "  <tbody>\n",
       "    <tr>\n",
       "      <th>0</th>\n",
       "      <td>Ready .... GO !!!</td>\n",
       "      <td>noHate</td>\n",
       "    </tr>\n",
       "    <tr>\n",
       "      <th>1</th>\n",
       "      <td>If i sent you some pic wound use be able to pu...</td>\n",
       "      <td>noHate</td>\n",
       "    </tr>\n",
       "    <tr>\n",
       "      <th>2</th>\n",
       "      <td>ALWAYS SPEAK OUT WHEN IN A CLASS WITH A BRAINW...</td>\n",
       "      <td>noHate</td>\n",
       "    </tr>\n",
       "    <tr>\n",
       "      <th>3</th>\n",
       "      <td>They fit the same DNA as the DNA found in anci...</td>\n",
       "      <td>noHate</td>\n",
       "    </tr>\n",
       "    <tr>\n",
       "      <th>4</th>\n",
       "      <td>I would not be surprised if this woman was spe...</td>\n",
       "      <td>hate</td>\n",
       "    </tr>\n",
       "  </tbody>\n",
       "</table>\n",
       "</div>"
      ],
      "text/plain": [
       "                                                text   label\n",
       "0                                  Ready .... GO !!!  noHate\n",
       "1  If i sent you some pic wound use be able to pu...  noHate\n",
       "2  ALWAYS SPEAK OUT WHEN IN A CLASS WITH A BRAINW...  noHate\n",
       "3  They fit the same DNA as the DNA found in anci...  noHate\n",
       "4  I would not be surprised if this woman was spe...    hate"
      ]
     },
     "execution_count": 260,
     "metadata": {},
     "output_type": "execute_result"
    }
   ],
   "source": [
    "comb_set.head()"
   ]
  },
  {
   "cell_type": "code",
   "execution_count": 261,
   "id": "dcc5252d",
   "metadata": {},
   "outputs": [],
   "source": [
    "#isolate labels to transform using One Hot Encoding\n",
    "# labels_actual_train = train_file['label'].values\n",
    "# labels_actual_test = test_file['label'].values"
   ]
  },
  {
   "cell_type": "code",
   "execution_count": 262,
   "id": "6bf7ca6c",
   "metadata": {},
   "outputs": [],
   "source": [
    "labels = comb_set['label']\n",
    "tweets = comb_set['text']\n",
    "X_train, X_test, y_train, y_test = train_test_split(tweets, labels, stratify=labels, test_size=0.25)\n"
   ]
  },
  {
   "cell_type": "code",
   "execution_count": 263,
   "id": "e624ac77",
   "metadata": {},
   "outputs": [],
   "source": [
    "#Reset Indexes \n",
    "X_train = X_train.reset_index(drop=True)\n",
    "X_test = X_test.reset_index(drop=True)\n",
    "X_test_stats = X_test.copy()"
   ]
  },
  {
   "cell_type": "code",
   "execution_count": 264,
   "id": "be9c9394",
   "metadata": {},
   "outputs": [
    {
     "name": "stdout",
     "output_type": "stream",
     "text": [
      "Total training samples: 1794\n",
      "Total test samples: 598\n"
     ]
    },
    {
     "data": {
      "text/plain": [
       "0    No doubt they 'll be coming up with chocolate-...\n",
       "1                           Sounds like a smart idea .\n",
       "2    Every white person from Michigan knows that ou...\n",
       "3    another coon giving out about Ireland and as i...\n",
       "4         Gotta represent my coconuts and mangos yo !!\n",
       "Name: text, dtype: object"
      ]
     },
     "execution_count": 264,
     "metadata": {},
     "output_type": "execute_result"
    }
   ],
   "source": [
    "print(\"Total training samples:\", len(X_train))\n",
    "print(\"Total test samples:\", len(X_test))\n",
    "\n",
    "X_train.head()"
   ]
  },
  {
   "cell_type": "code",
   "execution_count": 265,
   "id": "071cecff",
   "metadata": {},
   "outputs": [
    {
     "data": {
      "text/plain": [
       "count          1794\n",
       "unique         1791\n",
       "top       I agree .\n",
       "freq              2\n",
       "Name: text, dtype: object"
      ]
     },
     "execution_count": 265,
     "metadata": {},
     "output_type": "execute_result"
    }
   ],
   "source": [
    "X_train.describe()"
   ]
  },
  {
   "cell_type": "code",
   "execution_count": 266,
   "id": "4d435430",
   "metadata": {},
   "outputs": [
    {
     "name": "stdout",
     "output_type": "stream",
     "text": [
      "<class 'pandas.core.series.Series'>\n",
      "RangeIndex: 1794 entries, 0 to 1793\n",
      "Series name: text\n",
      "Non-Null Count  Dtype \n",
      "--------------  ----- \n",
      "1794 non-null   object\n",
      "dtypes: object(1)\n",
      "memory usage: 14.1+ KB\n"
     ]
    }
   ],
   "source": [
    "X_train.info()"
   ]
  },
  {
   "cell_type": "code",
   "execution_count": 267,
   "id": "36eb7260",
   "metadata": {},
   "outputs": [
    {
     "name": "stdout",
     "output_type": "stream",
     "text": [
      "I do not think anyone looks up to white Negroes , just the black ones and then they become wiggers .\n"
     ]
    }
   ],
   "source": [
    "#Random sample tweet\n",
    "sample_index = 74\n",
    "print(X_train.iloc[sample_index])"
   ]
  },
  {
   "cell_type": "code",
   "execution_count": 268,
   "id": "880722cd",
   "metadata": {},
   "outputs": [
    {
     "data": {
      "text/plain": [
       "<AxesSubplot: >"
      ]
     },
     "execution_count": 268,
     "metadata": {},
     "output_type": "execute_result"
    },
    {
     "data": {
      "image/png": "[encoded data removed]",
      "text/plain": [
       "<Figure size 640x480 with 1 Axes>"
      ]
     },
     "metadata": {},
     "output_type": "display_data"
    }
   ],
   "source": [
    "#plot the count of hate tweets vs no hate tweets in the training set\n",
    "#this is to make sure both are balanced \n",
    "\n",
    "y_train.value_counts().plot(kind='bar')"
   ]
  },
  {
   "cell_type": "code",
   "execution_count": 269,
   "id": "9d809261",
   "metadata": {},
   "outputs": [
    {
     "data": {
      "text/plain": [
       "<AxesSubplot: >"
      ]
     },
     "execution_count": 269,
     "metadata": {},
     "output_type": "execute_result"
    },
    {
     "data": {
      "image/png": "[encoded data removed]",
      "text/plain": [
       "<Figure size 640x480 with 1 Axes>"
      ]
     },
     "metadata": {},
     "output_type": "display_data"
    }
   ],
   "source": [
    "y_test.value_counts().plot(kind='bar')"
   ]
  },
  {
   "cell_type": "code",
   "execution_count": 270,
   "id": "ad704bfd",
   "metadata": {},
   "outputs": [],
   "source": [
    "# Convert the text feature into a vectors of tokens\n",
    "from sklearn.feature_extraction.text import CountVectorizer\n",
    "\n",
    "cv = CountVectorizer(strip_accents='ascii', token_pattern=u'(?ui)\\\\b\\\\w*[a-z]+\\\\w*\\\\b',\n",
    "                             lowercase=True, stop_words='english')\n",
    "X_train_cv = cv.fit_transform(X_train)\n",
    "X_test_cv = cv.transform(X_test)\n"
   ]
  },
  {
   "cell_type": "code",
   "execution_count": 219,
   "id": "770bd758",
   "metadata": {},
   "outputs": [
    {
     "data": {
      "text/html": [
       "<div>\n",
       "<style scoped>\n",
       "    .dataframe tbody tr th:only-of-type {\n",
       "        vertical-align: middle;\n",
       "    }\n",
       "\n",
       "    .dataframe tbody tr th {\n",
       "        vertical-align: top;\n",
       "    }\n",
       "\n",
       "    .dataframe thead th {\n",
       "        text-align: right;\n",
       "    }\n",
       "</style>\n",
       "<table border=\"1\" class=\"dataframe\">\n",
       "  <thead>\n",
       "    <tr style=\"text-align: right;\">\n",
       "      <th></th>\n",
       "      <th>0</th>\n",
       "    </tr>\n",
       "  </thead>\n",
       "  <tbody>\n",
       "    <tr>\n",
       "      <th>white</th>\n",
       "      <td>299</td>\n",
       "    </tr>\n",
       "    <tr>\n",
       "      <th>s</th>\n",
       "      <td>210</td>\n",
       "    </tr>\n",
       "    <tr>\n",
       "      <th>t</th>\n",
       "      <td>165</td>\n",
       "    </tr>\n",
       "    <tr>\n",
       "      <th>n</th>\n",
       "      <td>160</td>\n",
       "    </tr>\n",
       "    <tr>\n",
       "      <th>like</th>\n",
       "      <td>155</td>\n",
       "    </tr>\n",
       "    <tr>\n",
       "      <th>just</th>\n",
       "      <td>132</td>\n",
       "    </tr>\n",
       "    <tr>\n",
       "      <th>people</th>\n",
       "      <td>126</td>\n",
       "    </tr>\n",
       "    <tr>\n",
       "      <th>black</th>\n",
       "      <td>125</td>\n",
       "    </tr>\n",
       "    <tr>\n",
       "      <th>whites</th>\n",
       "      <td>105</td>\n",
       "    </tr>\n",
       "    <tr>\n",
       "      <th>blacks</th>\n",
       "      <td>74</td>\n",
       "    </tr>\n",
       "    <tr>\n",
       "      <th>race</th>\n",
       "      <td>65</td>\n",
       "    </tr>\n",
       "    <tr>\n",
       "      <th>good</th>\n",
       "      <td>63</td>\n",
       "    </tr>\n",
       "    <tr>\n",
       "      <th>want</th>\n",
       "      <td>60</td>\n",
       "    </tr>\n",
       "    <tr>\n",
       "      <th>time</th>\n",
       "      <td>58</td>\n",
       "    </tr>\n",
       "    <tr>\n",
       "      <th>m</th>\n",
       "      <td>57</td>\n",
       "    </tr>\n",
       "    <tr>\n",
       "      <th>youtube</th>\n",
       "      <td>54</td>\n",
       "    </tr>\n",
       "    <tr>\n",
       "      <th>jews</th>\n",
       "      <td>52</td>\n",
       "    </tr>\n",
       "    <tr>\n",
       "      <th>need</th>\n",
       "      <td>51</td>\n",
       "    </tr>\n",
       "    <tr>\n",
       "      <th>non</th>\n",
       "      <td>51</td>\n",
       "    </tr>\n",
       "    <tr>\n",
       "      <th>school</th>\n",
       "      <td>49</td>\n",
       "    </tr>\n",
       "  </tbody>\n",
       "</table>\n",
       "</div>"
      ],
      "text/plain": [
       "           0\n",
       "white    299\n",
       "s        210\n",
       "t        165\n",
       "n        160\n",
       "like     155\n",
       "just     132\n",
       "people   126\n",
       "black    125\n",
       "whites   105\n",
       "blacks    74\n",
       "race      65\n",
       "good      63\n",
       "want      60\n",
       "time      58\n",
       "m         57\n",
       "youtube   54\n",
       "jews      52\n",
       "need      51\n",
       "non       51\n",
       "school    49"
      ]
     },
     "execution_count": 219,
     "metadata": {},
     "output_type": "execute_result"
    }
   ],
   "source": [
    "#dfrequency of words df\n",
    "word_freq_df = pd.DataFrame(X_train_cv.toarray(), columns=cv.get_feature_names_out())\n",
    "# top 20 words occuring in training tweets\n",
    "pd.DataFrame(word_freq_df.sum()).sort_values(0, ascending=False).head(20)"
   ]
  },
  {
   "cell_type": "code",
   "execution_count": 249,
   "id": "b73cf218",
   "metadata": {},
   "outputs": [],
   "source": [
    "from sklearn.naive_bayes import MultinomialNB\n",
    "clf = MultinomialNB()\n",
    "clf.fit(X_train_cv, y_train)\n",
    "predictions = clf.predict(X_test_cv)"
   ]
  },
  {
   "cell_type": "code",
   "execution_count": 252,
   "id": "cc4f1fb0",
   "metadata": {},
   "outputs": [
    {
     "name": "stdout",
     "output_type": "stream",
     "text": [
      "Number of samples to classify: 598\n",
      "\n",
      "Accuracy score: 0.697324414715719\n",
      "Confusion matrix: \n",
      "[[252  47]\n",
      " [134 165]]\n"
     ]
    }
   ],
   "source": [
    "# Plot scores and make a confusion matrix for non-hate/hate predictions\n",
    "\n",
    "from sklearn.metrics import accuracy_score, precision_score, recall_score\n",
    "from sklearn.metrics import confusion_matrix\n",
    "\n",
    "cm = confusion_matrix(y_test, predictions)\n",
    "\n",
    "print(f'Number of samples to classify: {len(X_test)}\\n')\n",
    "print(f'Accuracy score: {accuracy_score(y_test, predictions)}')\n",
    "# print(f'Precision score: {precision_score(y_test, predictions)}')\n",
    "#print(f'Recall score: {recall_score(y_test, predictions)}\\n')\n",
    "print(f'Confusion matrix: \\n{cm}')"
   ]
  },
  {
   "cell_type": "code",
   "execution_count": 254,
   "id": "513701c8",
   "metadata": {},
   "outputs": [
    {
     "data": {
      "text/plain": [
       "Text(47.222222222222214, 0.5, 'True label')"
      ]
     },
     "execution_count": 254,
     "metadata": {},
     "output_type": "execute_result"
    },
    {
     "data": {
      "image/png": "[encoded data removed]",
      "text/plain": [
       "<Figure size 600x600 with 1 Axes>"
      ]
     },
     "metadata": {},
     "output_type": "display_data"
    }
   ],
   "source": [
    "import seaborn as sns\n",
    "plt.figure(figsize=(6,6))\n",
    "cm = cm.astype('float') / cm.sum(axis=1)[:, np.newaxis]\n",
    "sns.heatmap(cm, square=True, annot=True, cbar=False,\n",
    "            xticklabels=['non-hate', 'hate'], yticklabels=['non-hate', 'hate'])\n",
    "plt.xlabel('Predicted label')\n",
    "plt.ylabel('True label')"
   ]
  }
 ],
 "metadata": {
  "kernelspec": {
   "display_name": "Python 3 (ipykernel)",
   "language": "python",
   "name": "python3"
  },
  "language_info": {
   "codemirror_mode": {
    "name": "ipython",
    "version": 3
   },
   "file_extension": ".py",
   "mimetype": "text/x-python",
   "name": "python",
   "nbconvert_exporter": "python",
   "pygments_lexer": "ipython3",
   "version": "3.10.6"
  }
 },
 "nbformat": 4,
 "nbformat_minor": 5
}
