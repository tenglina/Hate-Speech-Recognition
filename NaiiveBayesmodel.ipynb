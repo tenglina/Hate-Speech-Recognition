{
 "cells": [
  {
   "cell_type": "code",
   "execution_count": 116,
   "id": "da3d0c85",
   "metadata": {},
   "outputs": [
    {
     "name": "stderr",
     "output_type": "stream",
     "text": [
      "[nltk_data] Downloading package stopwords to\n",
      "[nltk_data]     /Users/nandinitengli/nltk_data...\n",
      "[nltk_data]   Package stopwords is already up-to-date!\n"
     ]
    }
   ],
   "source": [
    "import numpy as np # linear algebra\n",
    "import pandas as pd \n",
    "import matplotlib.pyplot as plt\n",
    "#from wordcloud import WordCloud\n",
    "\n",
    "#data preprocessing\n",
    "from sklearn.compose import ColumnTransformer\n",
    "from sklearn.preprocessing import OneHotEncoder\n",
    "\n",
    "#NLP tools\n",
    "import re\n",
    "import nltk\n",
    "nltk.download('stopwords')\n",
    "from nltk.corpus import stopwords\n",
    "from nltk.stem.porter import PorterStemmer\n",
    "from sklearn.feature_extraction.text import CountVectorizer\n",
    "\n",
    "from sklearn.model_selection import train_test_split\n",
    "from sklearn.naive_bayes import GaussianNB\n"
   ]
  },
  {
   "cell_type": "code",
   "execution_count": 11,
   "id": "39a970f9",
   "metadata": {},
   "outputs": [],
   "source": [
    "ids = pd.read_csv('hate-speech-dataset/annotations_metadata.csv')[[\"file_id\", \"label\"]]"
   ]
  },
  {
   "cell_type": "code",
   "execution_count": 13,
   "id": "4b48afbb",
   "metadata": {},
   "outputs": [],
   "source": [
    "def get_data(paths, group):\n",
    "  \n",
    "    sets = []\n",
    "    for p in paths:\n",
    "\n",
    "        with open(p) as f:\n",
    "            file_id = p.split('/')[-1].split('.')[0]\n",
    "            sets.append((file_id, f.read(), group))\n",
    "\n",
    "    return pd.DataFrame(sets, columns=[\"file_id\", \"text\", \"gSet\"])"
   ]
  },
  {
   "cell_type": "code",
   "execution_count": 17,
   "id": "9a569bdd",
   "metadata": {},
   "outputs": [],
   "source": [
    "import glob\n",
    "\n",
    "train_set = get_data(glob.glob('./hate-speech-dataset/sampled_train/*.txt'), 'train')\n",
    "test_set = get_data(glob.glob('./hate-speech-dataset/sampled_test/*.txt'), 'test')\n",
    "\n",
    "train_set = train_set.join(idLabels.set_index('file_id'), on='file_id')\n",
    "test_set = test_set.join(idLabels.set_index('file_id'), on='file_id')\n",
    "\n",
    "comb_set = pd.concat([train_set, test_set]).reset_index(drop=True)"
   ]
  },
  {
   "cell_type": "code",
   "execution_count": 24,
   "id": "d52cff43",
   "metadata": {},
   "outputs": [
    {
     "data": {
      "text/html": [
       "<div>\n",
       "<style scoped>\n",
       "    .dataframe tbody tr th:only-of-type {\n",
       "        vertical-align: middle;\n",
       "    }\n",
       "\n",
       "    .dataframe tbody tr th {\n",
       "        vertical-align: top;\n",
       "    }\n",
       "\n",
       "    .dataframe thead th {\n",
       "        text-align: right;\n",
       "    }\n",
       "</style>\n",
       "<table border=\"1\" class=\"dataframe\">\n",
       "  <thead>\n",
       "    <tr style=\"text-align: right;\">\n",
       "      <th></th>\n",
       "      <th>file_id</th>\n",
       "      <th>text</th>\n",
       "      <th>gSet</th>\n",
       "      <th>label</th>\n",
       "    </tr>\n",
       "  </thead>\n",
       "  <tbody>\n",
       "    <tr>\n",
       "      <th>2387</th>\n",
       "      <td>31732972_2</td>\n",
       "      <td>Sometimes I do watch shows about WWII on the H...</td>\n",
       "      <td>test</td>\n",
       "      <td>noHate</td>\n",
       "    </tr>\n",
       "    <tr>\n",
       "      <th>2388</th>\n",
       "      <td>30644911_2</td>\n",
       "      <td>It 's a pretty powerful documentary that blew ...</td>\n",
       "      <td>test</td>\n",
       "      <td>noHate</td>\n",
       "    </tr>\n",
       "    <tr>\n",
       "      <th>2389</th>\n",
       "      <td>30771611_2</td>\n",
       "      <td>Like the parasites they are they simply moved ...</td>\n",
       "      <td>test</td>\n",
       "      <td>hate</td>\n",
       "    </tr>\n",
       "    <tr>\n",
       "      <th>2390</th>\n",
       "      <td>13590005_2</td>\n",
       "      <td>Their lies are so thick and many that people d...</td>\n",
       "      <td>test</td>\n",
       "      <td>hate</td>\n",
       "    </tr>\n",
       "    <tr>\n",
       "      <th>2391</th>\n",
       "      <td>14672822_1</td>\n",
       "      <td>We knew that these structures were built by su...</td>\n",
       "      <td>test</td>\n",
       "      <td>noHate</td>\n",
       "    </tr>\n",
       "  </tbody>\n",
       "</table>\n",
       "</div>"
      ],
      "text/plain": [
       "         file_id                                               text  gSet  \\\n",
       "2387  31732972_2  Sometimes I do watch shows about WWII on the H...  test   \n",
       "2388  30644911_2  It 's a pretty powerful documentary that blew ...  test   \n",
       "2389  30771611_2  Like the parasites they are they simply moved ...  test   \n",
       "2390  13590005_2  Their lies are so thick and many that people d...  test   \n",
       "2391  14672822_1  We knew that these structures were built by su...  test   \n",
       "\n",
       "       label  \n",
       "2387  noHate  \n",
       "2388  noHate  \n",
       "2389    hate  \n",
       "2390    hate  \n",
       "2391  noHate  "
      ]
     },
     "execution_count": 24,
     "metadata": {},
     "output_type": "execute_result"
    }
   ],
   "source": [
    "train_set.head()\n",
    "train_set.describe()\n",
    "comb_set.head()\n",
    "comb_set.tail()"
   ]
  },
  {
   "cell_type": "code",
   "execution_count": 98,
   "id": "dcc5252d",
   "metadata": {},
   "outputs": [],
   "source": [
    "#isolate train labels and text columns\n",
    "pre_train_data = train_set[['label', 'text']]\n",
    "pre_test_data = test_set[['label', 'text']]\n",
    "\n",
    "#isolate labels to transform using One Hot Encoding\n",
    "labels_actual_train = pre_train_data.iloc[:,:-1].values\n",
    "labels_actual_test = pre_test_data.iloc[:,:-1].values"
   ]
  },
  {
   "cell_type": "code",
   "execution_count": 99,
   "id": "3fe5eadb",
   "metadata": {},
   "outputs": [],
   "source": [
    "#transform hate noHate --> 1, 0\n",
    "ct1 = ColumnTransformer(transformers=[('encoder', OneHotEncoder(), [0])])\n",
    "ct2 = ColumnTransformer(transformers=[('encoder', OneHotEncoder(), [0])])\n",
    "\n",
    "#hate classification = 1, no-hate classification = 0\n",
    "y_train = np.array(ct1.fit_transform(labels_actual_train))[:,0]\n",
    "y_test =  np.array(ct2.fit_transform(labels_actual_test))[:,0]\n"
   ]
  },
  {
   "cell_type": "code",
   "execution_count": 100,
   "id": "4946b611",
   "metadata": {},
   "outputs": [],
   "source": [
    "#cleaning the data set \n",
    "#improve this using spacy\n",
    "\n",
    "def clean_data(size, data):\n",
    "    corpus = []\n",
    "    for i in range(size):\n",
    "        #conver text to plain english\n",
    "        text = re.sub('[^a-zA-Z]', ' ', data['text'][i])\n",
    "        text = text.lower().split()\n",
    "        stop_words = set(stopwords.words('english'))\n",
    "        stemmer = PorterStemmer()\n",
    "        text = [stemmer.stem(word) for word in text if word not in stop_words]\n",
    "        text = ' '.join(text)\n",
    "        corpus.append(text)\n",
    "        \n",
    "    return corpus\n",
    "    "
   ]
  },
  {
   "cell_type": "code",
   "execution_count": 109,
   "id": "4327bf4b",
   "metadata": {},
   "outputs": [],
   "source": [
    "cv1 = CountVectorizer(max_features = 1953)\n",
    "cv2 = CountVectorizer(max_features = 1953)\n",
    "corpus_train = clean_data(len(y_train), pre_train_data)\n",
    "corpus_test = clean_data(len(y_test), pre_test_data)\n",
    "X_train = cv1.fit_transform(corpus_train).toarray()\n",
    "X_test = cv2.fit_transform(corpus_test).toarray()"
   ]
  },
  {
   "cell_type": "code",
   "execution_count": 110,
   "id": "b43fad90",
   "metadata": {},
   "outputs": [
    {
     "data": {
      "text/html": [
       "<style>#sk-container-id-8 {color: black;background-color: white;}#sk-container-id-8 pre{padding: 0;}#sk-container-id-8 div.sk-toggleable {background-color: white;}#sk-container-id-8 label.sk-toggleable__label {cursor: pointer;display: block;width: 100%;margin-bottom: 0;padding: 0.3em;box-sizing: border-box;text-align: center;}#sk-container-id-8 label.sk-toggleable__label-arrow:before {content: \"▸\";float: left;margin-right: 0.25em;color: #696969;}#sk-container-id-8 label.sk-toggleable__label-arrow:hover:before {color: black;}#sk-container-id-8 div.sk-estimator:hover label.sk-toggleable__label-arrow:before {color: black;}#sk-container-id-8 div.sk-toggleable__content {max-height: 0;max-width: 0;overflow: hidden;text-align: left;background-color: #f0f8ff;}#sk-container-id-8 div.sk-toggleable__content pre {margin: 0.2em;color: black;border-radius: 0.25em;background-color: #f0f8ff;}#sk-container-id-8 input.sk-toggleable__control:checked~div.sk-toggleable__content {max-height: 200px;max-width: 100%;overflow: auto;}#sk-container-id-8 input.sk-toggleable__control:checked~label.sk-toggleable__label-arrow:before {content: \"▾\";}#sk-container-id-8 div.sk-estimator input.sk-toggleable__control:checked~label.sk-toggleable__label {background-color: #d4ebff;}#sk-container-id-8 div.sk-label input.sk-toggleable__control:checked~label.sk-toggleable__label {background-color: #d4ebff;}#sk-container-id-8 input.sk-hidden--visually {border: 0;clip: rect(1px 1px 1px 1px);clip: rect(1px, 1px, 1px, 1px);height: 1px;margin: -1px;overflow: hidden;padding: 0;position: absolute;width: 1px;}#sk-container-id-8 div.sk-estimator {font-family: monospace;background-color: #f0f8ff;border: 1px dotted black;border-radius: 0.25em;box-sizing: border-box;margin-bottom: 0.5em;}#sk-container-id-8 div.sk-estimator:hover {background-color: #d4ebff;}#sk-container-id-8 div.sk-parallel-item::after {content: \"\";width: 100%;border-bottom: 1px solid gray;flex-grow: 1;}#sk-container-id-8 div.sk-label:hover label.sk-toggleable__label {background-color: #d4ebff;}#sk-container-id-8 div.sk-serial::before {content: \"\";position: absolute;border-left: 1px solid gray;box-sizing: border-box;top: 0;bottom: 0;left: 50%;z-index: 0;}#sk-container-id-8 div.sk-serial {display: flex;flex-direction: column;align-items: center;background-color: white;padding-right: 0.2em;padding-left: 0.2em;position: relative;}#sk-container-id-8 div.sk-item {position: relative;z-index: 1;}#sk-container-id-8 div.sk-parallel {display: flex;align-items: stretch;justify-content: center;background-color: white;position: relative;}#sk-container-id-8 div.sk-item::before, #sk-container-id-8 div.sk-parallel-item::before {content: \"\";position: absolute;border-left: 1px solid gray;box-sizing: border-box;top: 0;bottom: 0;left: 50%;z-index: -1;}#sk-container-id-8 div.sk-parallel-item {display: flex;flex-direction: column;z-index: 1;position: relative;background-color: white;}#sk-container-id-8 div.sk-parallel-item:first-child::after {align-self: flex-end;width: 50%;}#sk-container-id-8 div.sk-parallel-item:last-child::after {align-self: flex-start;width: 50%;}#sk-container-id-8 div.sk-parallel-item:only-child::after {width: 0;}#sk-container-id-8 div.sk-dashed-wrapped {border: 1px dashed gray;margin: 0 0.4em 0.5em 0.4em;box-sizing: border-box;padding-bottom: 0.4em;background-color: white;}#sk-container-id-8 div.sk-label label {font-family: monospace;font-weight: bold;display: inline-block;line-height: 1.2em;}#sk-container-id-8 div.sk-label-container {text-align: center;}#sk-container-id-8 div.sk-container {/* jupyter's `normalize.less` sets `[hidden] { display: none; }` but bootstrap.min.css set `[hidden] { display: none !important; }` so we also need the `!important` here to be able to override the default hidden behavior on the sphinx rendered scikit-learn.org. See: https://github.com/scikit-learn/scikit-learn/issues/21755 */display: inline-block !important;position: relative;}#sk-container-id-8 div.sk-text-repr-fallback {display: none;}</style><div id=\"sk-container-id-8\" class=\"sk-top-container\"><div class=\"sk-text-repr-fallback\"><pre>GaussianNB()</pre><b>In a Jupyter environment, please rerun this cell to show the HTML representation or trust the notebook. <br />On GitHub, the HTML representation is unable to render, please try loading this page with nbviewer.org.</b></div><div class=\"sk-container\" hidden><div class=\"sk-item\"><div class=\"sk-estimator sk-toggleable\"><input class=\"sk-toggleable__control sk-hidden--visually\" id=\"sk-estimator-id-8\" type=\"checkbox\" checked><label for=\"sk-estimator-id-8\" class=\"sk-toggleable__label sk-toggleable__label-arrow\">GaussianNB</label><div class=\"sk-toggleable__content\"><pre>GaussianNB()</pre></div></div></div></div></div>"
      ],
      "text/plain": [
       "GaussianNB()"
      ]
     },
     "execution_count": 110,
     "metadata": {},
     "output_type": "execute_result"
    }
   ],
   "source": [
    "classifier_np = GaussianNB()\n",
    "classifier_np.fit(X_train, y_train)\n",
    "\n"
   ]
  },
  {
   "cell_type": "code",
   "execution_count": 114,
   "id": "9002525d",
   "metadata": {},
   "outputs": [
    {
     "name": "stdout",
     "output_type": "stream",
     "text": [
      "[[141  98]\n",
      " [123 116]]\n"
     ]
    }
   ],
   "source": [
    "\n",
    "from sklearn.metrics import confusion_matrix, accuracy_score\n",
    "\n",
    "y_pred = classifier_np.predict(X_test)\n",
    "cm = confusion_matrix(y_test, y_pred)\n",
    "print(cm)"
   ]
  },
  {
   "cell_type": "code",
   "execution_count": 115,
   "id": "f0043ac9",
   "metadata": {},
   "outputs": [
    {
     "data": {
      "text/plain": [
       "0.5376569037656904"
      ]
     },
     "execution_count": 115,
     "metadata": {},
     "output_type": "execute_result"
    }
   ],
   "source": [
    "accuracy_score(y_test, y_pred)"
   ]
  },
  {
   "cell_type": "code",
   "execution_count": null,
   "id": "1515dcfa",
   "metadata": {},
   "outputs": [],
   "source": []
  }
 ],
 "metadata": {
  "kernelspec": {
   "display_name": "Python 3 (ipykernel)",
   "language": "python",
   "name": "python3"
  },
  "language_info": {
   "codemirror_mode": {
    "name": "ipython",
    "version": 3
   },
   "file_extension": ".py",
   "mimetype": "text/x-python",
   "name": "python",
   "nbconvert_exporter": "python",
   "pygments_lexer": "ipython3",
   "version": "3.10.6"
  }
 },
 "nbformat": 4,
 "nbformat_minor": 5
}
