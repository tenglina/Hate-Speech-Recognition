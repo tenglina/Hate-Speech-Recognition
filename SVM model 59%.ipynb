{
 "cells": [
  {
   "cell_type": "code",
   "execution_count": 1,
   "metadata": {},
   "outputs": [
    {
     "name": "stderr",
     "output_type": "stream",
     "text": [
      "[nltk_data] Downloading package stopwords to\n",
      "[nltk_data]     /Users/roohaan111/nltk_data...\n",
      "[nltk_data]   Package stopwords is already up-to-date!\n"
     ]
    }
   ],
   "source": [
    "import numpy as np # linear algebra\n",
    "import pandas as pd \n",
    "import matplotlib.pyplot as plt\n",
    "#from wordcloud import WordCloud\n",
    "\n",
    "#data preprocessing\n",
    "from sklearn.compose import ColumnTransformer\n",
    "from sklearn.preprocessing import OneHotEncoder\n",
    "\n",
    "#NLP tools\n",
    "import re\n",
    "import nltk\n",
    "nltk.download('stopwords')\n",
    "from nltk.corpus import stopwords\n",
    "from nltk.stem.porter import PorterStemmer\n",
    "from sklearn.feature_extraction.text import CountVectorizer\n",
    "\n",
    "from sklearn.model_selection import train_test_split\n",
    "from sklearn.naive_bayes import GaussianNB\n"
   ]
  },
  {
   "cell_type": "code",
   "execution_count": 2,
   "metadata": {},
   "outputs": [],
   "source": [
    "idLabels = pd.read_csv('hate-speech-dataset/annotations_metadata.csv')[[\"file_id\", \"label\"]]"
   ]
  },
  {
   "cell_type": "code",
   "execution_count": 3,
   "metadata": {},
   "outputs": [],
   "source": [
    "def get_data(paths, group):\n",
    "  \n",
    "    sets = []\n",
    "    for p in paths:\n",
    "\n",
    "        with open(p) as f:\n",
    "            file_id = p.split('/')[-1].split('.')[0]\n",
    "            sets.append((file_id, f.read(), group))\n",
    "\n",
    "    return pd.DataFrame(sets, columns=[\"file_id\", \"text\", \"gSet\"])"
   ]
  },
  {
   "cell_type": "code",
   "execution_count": 4,
   "metadata": {},
   "outputs": [],
   "source": [
    "import glob\n",
    "\n",
    "train_set = get_data(glob.glob('./hate-speech-dataset/sampled_train/*.txt'), 'train')\n",
    "test_set = get_data(glob.glob('./hate-speech-dataset/sampled_test/*.txt'), 'test')\n",
    "\n",
    "train_set = train_set.join(idLabels.set_index('file_id'), on='file_id')\n",
    "test_set = test_set.join(idLabels.set_index('file_id'), on='file_id')\n",
    "\n",
    "comb_set = pd.concat([train_set, test_set]).reset_index(drop=True)"
   ]
  },
  {
   "cell_type": "code",
   "execution_count": 5,
   "metadata": {},
   "outputs": [
    {
     "data": {
      "text/html": [
       "<div>\n",
       "<style scoped>\n",
       "    .dataframe tbody tr th:only-of-type {\n",
       "        vertical-align: middle;\n",
       "    }\n",
       "\n",
       "    .dataframe tbody tr th {\n",
       "        vertical-align: top;\n",
       "    }\n",
       "\n",
       "    .dataframe thead th {\n",
       "        text-align: right;\n",
       "    }\n",
       "</style>\n",
       "<table border=\"1\" class=\"dataframe\">\n",
       "  <thead>\n",
       "    <tr style=\"text-align: right;\">\n",
       "      <th></th>\n",
       "      <th>file_id</th>\n",
       "      <th>text</th>\n",
       "      <th>gSet</th>\n",
       "      <th>label</th>\n",
       "    </tr>\n",
       "  </thead>\n",
       "  <tbody>\n",
       "    <tr>\n",
       "      <th>2387</th>\n",
       "      <td>31732972_2</td>\n",
       "      <td>Sometimes I do watch shows about WWII on the H...</td>\n",
       "      <td>test</td>\n",
       "      <td>noHate</td>\n",
       "    </tr>\n",
       "    <tr>\n",
       "      <th>2388</th>\n",
       "      <td>30644911_2</td>\n",
       "      <td>It 's a pretty powerful documentary that blew ...</td>\n",
       "      <td>test</td>\n",
       "      <td>noHate</td>\n",
       "    </tr>\n",
       "    <tr>\n",
       "      <th>2389</th>\n",
       "      <td>30771611_2</td>\n",
       "      <td>Like the parasites they are they simply moved ...</td>\n",
       "      <td>test</td>\n",
       "      <td>hate</td>\n",
       "    </tr>\n",
       "    <tr>\n",
       "      <th>2390</th>\n",
       "      <td>13590005_2</td>\n",
       "      <td>Their lies are so thick and many that people d...</td>\n",
       "      <td>test</td>\n",
       "      <td>hate</td>\n",
       "    </tr>\n",
       "    <tr>\n",
       "      <th>2391</th>\n",
       "      <td>14672822_1</td>\n",
       "      <td>We knew that these structures were built by su...</td>\n",
       "      <td>test</td>\n",
       "      <td>noHate</td>\n",
       "    </tr>\n",
       "  </tbody>\n",
       "</table>\n",
       "</div>"
      ],
      "text/plain": [
       "         file_id                                               text  gSet  \\\n",
       "2387  31732972_2  Sometimes I do watch shows about WWII on the H...  test   \n",
       "2388  30644911_2  It 's a pretty powerful documentary that blew ...  test   \n",
       "2389  30771611_2  Like the parasites they are they simply moved ...  test   \n",
       "2390  13590005_2  Their lies are so thick and many that people d...  test   \n",
       "2391  14672822_1  We knew that these structures were built by su...  test   \n",
       "\n",
       "       label  \n",
       "2387  noHate  \n",
       "2388  noHate  \n",
       "2389    hate  \n",
       "2390    hate  \n",
       "2391  noHate  "
      ]
     },
     "execution_count": 5,
     "metadata": {},
     "output_type": "execute_result"
    }
   ],
   "source": [
    "train_set.head()\n",
    "train_set.describe()\n",
    "comb_set.head()\n",
    "comb_set.tail()"
   ]
  },
  {
   "cell_type": "code",
   "execution_count": 6,
   "metadata": {},
   "outputs": [],
   "source": [
    "#isolate train labels and text columns\n",
    "pre_train_data = train_set[['label', 'text']]\n",
    "pre_test_data = test_set[['label', 'text']]\n",
    "\n",
    "#isolate labels to transform using One Hot Encoding\n",
    "labels_actual_train = pre_train_data.iloc[:,:-1].values\n",
    "labels_actual_test = pre_test_data.iloc[:,:-1].values"
   ]
  },
  {
   "cell_type": "code",
   "execution_count": 7,
   "metadata": {},
   "outputs": [],
   "source": [
    "#transform hate noHate --> 1, 0\n",
    "ct1 = ColumnTransformer(transformers=[('encoder', OneHotEncoder(), [0])])\n",
    "ct2 = ColumnTransformer(transformers=[('encoder', OneHotEncoder(), [0])])\n",
    "\n",
    "#hate classification = 1, no-hate classification = 0\n",
    "y_train = np.array(ct1.fit_transform(labels_actual_train))[:,0]\n",
    "y_test =  np.array(ct2.fit_transform(labels_actual_test))[:,0]\n"
   ]
  },
  {
   "cell_type": "code",
   "execution_count": 8,
   "metadata": {},
   "outputs": [],
   "source": [
    "#cleaning the data set \n",
    "#improve this using spacy\n",
    "\n",
    "def clean_data(size, data):\n",
    "    corpus = []\n",
    "    for i in range(size):\n",
    "        #conver text to plain english\n",
    "        text = re.sub('[^a-zA-Z]', ' ', data['text'][i])\n",
    "        text = text.lower().split()\n",
    "        stop_words = set(stopwords.words('english'))\n",
    "        stemmer = PorterStemmer()\n",
    "        text = [stemmer.stem(word) for word in text if word not in stop_words]\n",
    "        text = ' '.join(text)\n",
    "        corpus.append(text)\n",
    "        \n",
    "    return corpus\n",
    "    "
   ]
  },
  {
   "cell_type": "code",
   "execution_count": 9,
   "metadata": {},
   "outputs": [],
   "source": [
    "cv1 = CountVectorizer(max_features = 1953)\n",
    "cv2 = CountVectorizer(max_features = 1953)\n",
    "corpus_train = clean_data(len(y_train), pre_train_data)\n",
    "corpus_test = clean_data(len(y_test), pre_test_data)\n",
    "X_train = cv1.fit_transform(corpus_train).toarray()\n",
    "X_test = cv2.fit_transform(corpus_test).toarray()"
   ]
  },
  {
   "cell_type": "code",
   "execution_count": 10,
   "metadata": {},
   "outputs": [
    {
     "name": "stdout",
     "output_type": "stream",
     "text": [
      ",\n"
     ]
    }
   ],
   "source": [
    "# classifier_np = GaussianNB()\n",
    "# classifier_np.fit(X_train, y_train)\n",
    "print(\",\")\n",
    "\n",
    "from sklearn.pipeline import make_pipeline\n",
    "from sklearn.preprocessing import StandardScaler\n",
    "from sklearn.datasets import make_moons\n",
    "from sklearn.preprocessing import PolynomialFeatures\n",
    "\n",
    "from sklearn.svm import SVC\n",
    "from sklearn.pipeline import Pipeline"
   ]
  },
  {
   "cell_type": "code",
   "execution_count": 12,
   "metadata": {},
   "outputs": [
    {
     "name": "stdout",
     "output_type": "stream",
     "text": [
      "z\n"
     ]
    }
   ],
   "source": [
    "polynomial_svm_clf = Pipeline([\n",
    "        (\"scaler\", StandardScaler()),\n",
    "        (\"svm_clf\", SVC(C=15, kernel = \"poly\", coef0 = 1, degree = 4))\n",
    "    ])\n",
    "\n",
    "# polynomial_svm_clf = Pipeline([\n",
    "#         (\"scaler\", StandardScaler()),\n",
    "#         (\"svm_clf\", SVC(C=5, kernel = \"poly\", coef0 = 100, degree = 10))\n",
    "#     ])\n",
    "\n",
    "\n",
    "print(\"z\")"
   ]
  },
  {
   "cell_type": "code",
   "execution_count": 13,
   "metadata": {},
   "outputs": [
    {
     "data": {
      "text/plain": [
       "Pipeline(steps=[('scaler', StandardScaler()),\n",
       "                ('svm_clf', SVC(C=15, coef0=1, degree=4, kernel='poly'))])"
      ]
     },
     "execution_count": 13,
     "metadata": {},
     "output_type": "execute_result"
    }
   ],
   "source": [
    "polynomial_svm_clf.fit(X_train, y_train)"
   ]
  },
  {
   "cell_type": "code",
   "execution_count": 14,
   "metadata": {},
   "outputs": [],
   "source": [
    "y_pred = polynomial_svm_clf.predict(X_test)"
   ]
  },
  {
   "cell_type": "code",
   "execution_count": 15,
   "metadata": {},
   "outputs": [
    {
     "name": "stdout",
     "output_type": "stream",
     "text": [
      "[[149  90]\n",
      " [105 134]]\n"
     ]
    }
   ],
   "source": [
    "\n",
    "from sklearn.metrics import confusion_matrix, accuracy_score\n",
    "\n",
    "# y_pred = classifier_np.predict(X_test)\n",
    "\n",
    "# y_pred = classifier_np.predict(X_test)\n",
    "cm = confusion_matrix(y_test, y_pred)\n",
    "print(cm)"
   ]
  },
  {
   "cell_type": "code",
   "execution_count": 16,
   "metadata": {},
   "outputs": [
    {
     "data": {
      "text/plain": [
       "0.5920502092050209"
      ]
     },
     "execution_count": 16,
     "metadata": {},
     "output_type": "execute_result"
    }
   ],
   "source": [
    "accuracy_score(y_test, y_pred)"
   ]
  },
  {
   "cell_type": "code",
   "execution_count": null,
   "metadata": {},
   "outputs": [],
   "source": []
  },
  {
   "cell_type": "code",
   "execution_count": null,
   "metadata": {},
   "outputs": [],
   "source": []
  },
  {
   "cell_type": "code",
   "execution_count": null,
   "metadata": {},
   "outputs": [],
   "source": []
  },
  {
   "cell_type": "code",
   "execution_count": null,
   "metadata": {},
   "outputs": [],
   "source": []
  }
 ],
 "metadata": {
  "kernelspec": {
   "display_name": "Python 3",
   "language": "python",
   "name": "python3"
  },
  "language_info": {
   "codemirror_mode": {
    "name": "ipython",
    "version": 3
   },
   "file_extension": ".py",
   "mimetype": "text/x-python",
   "name": "python",
   "nbconvert_exporter": "python",
   "pygments_lexer": "ipython3",
   "version": "3.8.5"
  }
 },
 "nbformat": 4,
 "nbformat_minor": 5
}
